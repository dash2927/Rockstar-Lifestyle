{
 "cells": [
  {
   "cell_type": "markdown",
   "metadata": {},
   "source": [
    "### Purpose: To obtain object statistics from impages imported by user"
   ]
  },
  {
   "cell_type": "markdown",
   "metadata": {},
   "source": [
    "*To do List:*\n",
    "4. Extract Basic Statistics:\n",
    "Euler number\n",
    "Image Centroids\n",
    "On Both Object Areas and distances from object centroids to the image centroid\n",
    "Min \n",
    "Max\n",
    "Mean\n",
    "Median\n",
    "Variance\n",
    "10-bin histogram \n",
    "\n",
    "*Decided to do a global threshold and a local threshold * - do more research into the difference between these two things"
   ]
  },
  {
   "cell_type": "markdown",
   "metadata": {},
   "source": [
    "*Step 1: Import the necessary packages*"
   ]
  },
  {
   "cell_type": "code",
   "execution_count": 123,
   "metadata": {},
   "outputs": [],
   "source": [
    "import sys\n",
    "sys.path.append('/Users/HawleyHelm/Desktop/CHE_545_546/Rockstar-Lifestyle')"
   ]
  },
  {
   "cell_type": "code",
   "execution_count": 124,
   "metadata": {},
   "outputs": [],
   "source": [
    "from PIL import Image, ImageFilter, ImageEnhance\n",
    "import numpy as np\n",
    "from matplotlib import pyplot as plt\n",
    "%matplotlib inline\n",
    "import scipy\n",
    "from scipy.ndimage import gaussian_filter\n",
    "from skimage import filters\n",
    "from skimage.morphology import watershed\n",
    "from skimage.feature import peak_local_max\n",
    "from skimage import measure\n",
    "from skimage import morphology\n",
    "from scipy import ndimage\n",
    "from skimage import segmentation\n",
    "from skimage import data, feature\n",
    "import math\n",
    "\n",
    "from RockstarLifestyle import preprocessing\n",
    "from RockstarLifestyle import ObjectStats"
   ]
  },
  {
   "cell_type": "markdown",
   "metadata": {},
   "source": [
    "*Step 2: User controlled inputs*"
   ]
  },
  {
   "cell_type": "code",
   "execution_count": 125,
   "metadata": {},
   "outputs": [],
   "source": [
    "im_contrast_value = 2"
   ]
  },
  {
   "cell_type": "markdown",
   "metadata": {},
   "source": [
    "*Step 3: Image Import*"
   ]
  },
  {
   "cell_type": "code",
   "execution_count": 126,
   "metadata": {},
   "outputs": [],
   "source": [
    "im =  Image.open(\"Test_Photo_fromMike.png\")"
   ]
  },
  {
   "cell_type": "markdown",
   "metadata": {},
   "source": [
    "*Step 4: Splitting image into red, green, blue values*"
   ]
  },
  {
   "cell_type": "code",
   "execution_count": 127,
   "metadata": {},
   "outputs": [],
   "source": [
    "r,g,b = im.split()"
   ]
  },
  {
   "cell_type": "code",
   "execution_count": 128,
   "metadata": {},
   "outputs": [],
   "source": [
    "contrast_image = preprocessing.image_contrast(b, 2)"
   ]
  },
  {
   "cell_type": "markdown",
   "metadata": {},
   "source": [
    "__Step 4: Otsu Global Threshold*__ "
   ]
  },
  {
   "cell_type": "code",
   "execution_count": 129,
   "metadata": {},
   "outputs": [],
   "source": [
    "contrast_image_arr = np.array(contrast_image)"
   ]
  },
  {
   "cell_type": "code",
   "execution_count": 130,
   "metadata": {},
   "outputs": [
    {
     "data": {
      "text/plain": [
       "117"
      ]
     },
     "execution_count": 130,
     "metadata": {},
     "output_type": "execute_result"
    }
   ],
   "source": [
    "thresh = filters.threshold_otsu(contrast_image_arr)\n",
    "thresh"
   ]
  },
  {
   "cell_type": "markdown",
   "metadata": {},
   "source": [
    "*Step 5: Obtaining the Binary Mask of the image*"
   ]
  },
  {
   "cell_type": "code",
   "execution_count": 131,
   "metadata": {},
   "outputs": [],
   "source": [
    "binary = contrast_image_arr > thresh"
   ]
  },
  {
   "cell_type": "markdown",
   "metadata": {},
   "source": [
    "*Step 6: Finding the eight connection items in the binary mask*"
   ]
  },
  {
   "cell_type": "markdown",
   "metadata": {},
   "source": [
    "__Step 4: Local Threshold__"
   ]
  },
  {
   "cell_type": "markdown",
   "metadata": {},
   "source": [
    "Question for me: how do you figure out what block size to use in local thresholding? - seems like i could easily introduce bias here"
   ]
  },
  {
   "cell_type": "code",
   "execution_count": 132,
   "metadata": {},
   "outputs": [],
   "source": [
    "block_size = 15\n",
    "adaptive_thresh = filters.threshold_local(contrast_image_arr, block_size, offset=8)\n",
    "binary_adaptive = contrast_image_arr < adaptive_thresh"
   ]
  },
  {
   "cell_type": "markdown",
   "metadata": {},
   "source": [
    "*Step 5: Find all eight connection items in the binary mask*"
   ]
  },
  {
   "cell_type": "code",
   "execution_count": 133,
   "metadata": {},
   "outputs": [],
   "source": [
    "distance = ndimage.distance_transform_edt(binary)\n",
    "local_maxi = peak_local_max(distance, indices=False, footprint=np.ones((3, 3)), labels=binary)"
   ]
  },
  {
   "cell_type": "code",
   "execution_count": 134,
   "metadata": {},
   "outputs": [],
   "source": [
    "markers = morphology.label(local_maxi)\n",
    "markers[~binary] = -1"
   ]
  },
  {
   "cell_type": "code",
   "execution_count": 135,
   "metadata": {},
   "outputs": [],
   "source": [
    "labels_rw = segmentation.random_walker(binary, markers)"
   ]
  },
  {
   "cell_type": "markdown",
   "metadata": {},
   "source": [
    "*Step 5: Object labeling with local Threshold*"
   ]
  },
  {
   "cell_type": "code",
   "execution_count": 136,
   "metadata": {},
   "outputs": [],
   "source": [
    "distance = ndimage.distance_transform_edt(binary_adaptive)\n",
    "local_maxi = peak_local_max(distance, indices=False, footprint=np.ones((3, 3)), labels=binary_adaptive)"
   ]
  },
  {
   "cell_type": "code",
   "execution_count": 137,
   "metadata": {},
   "outputs": [],
   "source": [
    "markers = morphology.label(local_maxi)\n",
    "markers[~binary_adaptive] = -1"
   ]
  },
  {
   "cell_type": "code",
   "execution_count": 138,
   "metadata": {},
   "outputs": [],
   "source": [
    "labels_rw_adaptive = segmentation.random_walker(binary_adaptive, markers)"
   ]
  },
  {
   "cell_type": "code",
   "execution_count": 139,
   "metadata": {},
   "outputs": [
    {
     "data": {
      "image/png": "[encoded data removed]",
      "text/plain": [
       "<Figure size 432x288 with 2 Axes>"
      ]
     },
     "metadata": {},
     "output_type": "display_data"
    }
   ],
   "source": [
    "fig = plt.figure()\n",
    "ax1 = plt.subplot(121)\n",
    "ax2 = plt.subplot(122)\n",
    "\n",
    "ax1.imshow(labels_rw) \n",
    "ax1.set_title('Otsu Global Threshold')\n",
    "ax1.set_xticks([])\n",
    "ax1.set_yticks([])\n",
    "\n",
    "ax2.imshow(labels_rw_adaptive)\n",
    "ax2.set_title('Local Threshold')\n",
    "ax2.set_xticks([])\n",
    "ax2.set_yticks([])\n",
    "\n",
    "fig.tight_layout()"
   ]
  },
  {
   "cell_type": "markdown",
   "metadata": {},
   "source": [
    "*Step 6: Extract Basic Statistics*"
   ]
  },
  {
   "cell_type": "code",
   "execution_count": 140,
   "metadata": {},
   "outputs": [],
   "source": [
    "properties = measure.regionprops(labels_rw)\n",
    "\n",
    "properties_adaptive = measure.regionprops(labels_rw_adaptive)"
   ]
  },
  {
   "cell_type": "markdown",
   "metadata": {},
   "source": [
    "*Step 6a: Object Areas*"
   ]
  },
  {
   "cell_type": "code",
   "execution_count": 141,
   "metadata": {},
   "outputs": [],
   "source": [
    "areas_rw = [prop.bbox_area for prop in properties]"
   ]
  },
  {
   "cell_type": "code",
   "execution_count": 142,
   "metadata": {},
   "outputs": [],
   "source": [
    "areas_rw_adaptive = [prop.bbox_area for prop in properties_adaptive]"
   ]
  },
  {
   "cell_type": "markdown",
   "metadata": {},
   "source": [
    "*Step 6a: 10-bin histogram: Object Areas*"
   ]
  },
  {
   "cell_type": "code",
   "execution_count": 143,
   "metadata": {},
   "outputs": [
    {
     "data": {
      "image/png": "[encoded data removed]",
      "text/plain": [
       "<Figure size 432x288 with 2 Axes>"
      ]
     },
     "metadata": {
      "needs_background": "light"
     },
     "output_type": "display_data"
    }
   ],
   "source": [
    "fig = plt.figure()\n",
    "ax1 = plt.subplot(211)\n",
    "ax2 = plt.subplot(212)\n",
    "\n",
    "ax1.hist(areas_rw, bins=10, density = True, cumulative = False)\n",
    "ax1.set_title('Global Otsu Threshold')\n",
    "ax1.set_ylabel('Frequency')\n",
    "ax1.set_xlabel('Object Area')\n",
    "\n",
    "ax2.hist(areas_rw_adaptive, bins=10, density = True, cumulative = False)\n",
    "ax2.set_title('Local Threshold')\n",
    "ax2.set_ylabel('Frequency')\n",
    "ax2.set_xlabel('Object Area')\n",
    "\n",
    "fig.tight_layout()"
   ]
  },
  {
   "cell_type": "markdown",
   "metadata": {},
   "source": [
    "*Step 6b: Finding Image Centroid*"
   ]
  },
  {
   "cell_type": "code",
   "execution_count": 144,
   "metadata": {},
   "outputs": [],
   "source": [
    "image_centroid = properties[0].centroid\n",
    "image_centroid_adaptive = properties_adaptive[0].centroid"
   ]
  },
  {
   "cell_type": "markdown",
   "metadata": {},
   "source": [
    "*Step 6c: Finding Object Centroids*"
   ]
  },
  {
   "cell_type": "code",
   "execution_count": 158,
   "metadata": {},
   "outputs": [],
   "source": [
    "object_centroids = feature.blob_log(binary)"
   ]
  },
  {
   "cell_type": "code",
   "execution_count": 159,
   "metadata": {},
   "outputs": [],
   "source": [
    "object_centroids_adaptive = feature.blob_log(binary_adaptive)"
   ]
  },
  {
   "cell_type": "markdown",
   "metadata": {},
   "source": [
    "*Step 6d: Distances from Object Centroids to the Image Centroids*"
   ]
  },
  {
   "cell_type": "code",
   "execution_count": 147,
   "metadata": {},
   "outputs": [],
   "source": [
    "def centroid_distance(image_centroid, object_centroid, row):\n",
    "    X1 = image_centroid[0]\n",
    "    Y1 = image_centroid[1]\n",
    "    X2 = object_centroids[row][0]\n",
    "    Y2 = object_centroids[row][1]\n",
    "    distance = math.sqrt((X1-X2)**2+(Y1-Y2)**2)\n",
    "    return distance"
   ]
  },
  {
   "cell_type": "code",
   "execution_count": 148,
   "metadata": {},
   "outputs": [],
   "source": [
    "distances_global = []\n",
    "j=0\n",
    "for row in object_centroids: \n",
    "    distance = centroid_distance(image_centroid, object_centroids, j)\n",
    "    distances_global.append(distance)\n",
    "    j += 1"
   ]
  },
  {
   "cell_type": "code",
   "execution_count": 149,
   "metadata": {},
   "outputs": [],
   "source": [
    "distances_local = []\n",
    "j=0\n",
    "for row in object_centroids: \n",
    "    distance = centroid_distance(image_centroid_adaptive, object_centroids_adaptive, j)\n",
    "    distances_local.append(distance)\n",
    "    j += 1"
   ]
  },
  {
   "cell_type": "markdown",
   "metadata": {},
   "source": [
    "*Step 6c: 10-bin histogram: Centroid Distane*"
   ]
  },
  {
   "cell_type": "code",
   "execution_count": 150,
   "metadata": {},
   "outputs": [
    {
     "data": {
      "image/png": "[encoded data removed]",
      "text/plain": [
       "<Figure size 432x288 with 2 Axes>"
      ]
     },
     "metadata": {
      "needs_background": "light"
     },
     "output_type": "display_data"
    }
   ],
   "source": [
    "fig = plt.figure()\n",
    "ax1 = plt.subplot(211)\n",
    "ax2 = plt.subplot(212)\n",
    "\n",
    "ax1.hist(distances_global, bins=10, density = True, cumulative = False)\n",
    "ax1.set_title('Global Otsu Threshold')\n",
    "ax1.set_ylabel('Frequency')\n",
    "ax1.set_xlabel('Pixel Distance')\n",
    "\n",
    "ax2.hist(distances_local, bins=10, density = True, cumulative = False)\n",
    "ax2.set_title('Local Threshold')\n",
    "ax2.set_ylabel('Frequency')\n",
    "ax2.set_xlabel('Pixel Distance')\n",
    "\n",
    "fig.tight_layout()"
   ]
  },
  {
   "cell_type": "markdown",
   "metadata": {},
   "source": [
    "*Step 6: Number of objects*"
   ]
  },
  {
   "cell_type": "code",
   "execution_count": 151,
   "metadata": {},
   "outputs": [
    {
     "name": "stdout",
     "output_type": "stream",
     "text": [
      "Gobal Threshold Object Number:      660\n"
     ]
    }
   ],
   "source": [
    "object_number_global = len(object_centroids)\n",
    "print('Gobal Threshold Object Number:     ', object_number_global)"
   ]
  },
  {
   "cell_type": "code",
   "execution_count": 152,
   "metadata": {},
   "outputs": [
    {
     "name": "stdout",
     "output_type": "stream",
     "text": [
      "Local Threshold Object Number:      3630\n"
     ]
    }
   ],
   "source": [
    "object_number_local = len(object_centroids_adaptive)\n",
    "print('Local Threshold Object Number:     ', object_number_local)"
   ]
  },
  {
   "cell_type": "markdown",
   "metadata": {},
   "source": [
    "*Step 6b: Min, Max, Mean, Median, Variance of object areas*"
   ]
  },
  {
   "cell_type": "code",
   "execution_count": 153,
   "metadata": {},
   "outputs": [],
   "source": [
    "min_area_global = min(areas_rw)\n",
    "max_area_global = max(areas_rw)\n",
    "mean_area_global = np.mean(areas_rw)\n",
    "median_area_global = np.median(areas_rw)\n",
    "variance_area_global = np.var(areas_rw)"
   ]
  },
  {
   "cell_type": "code",
   "execution_count": 154,
   "metadata": {},
   "outputs": [],
   "source": [
    "min_area_local = min(areas_rw_adaptive)\n",
    "max_area_local = max(areas_rw_adaptive)\n",
    "mean_area_local = np.mean(areas_rw_adaptive)\n",
    "median_area_local = np.median(areas_rw_adaptive)\n",
    "variance_area_local = np.var(areas_rw_adaptive)"
   ]
  },
  {
   "cell_type": "markdown",
   "metadata": {},
   "source": [
    "*Step 6b: Min, Max, Mean, Median, Variance of distances*"
   ]
  },
  {
   "cell_type": "code",
   "execution_count": 155,
   "metadata": {},
   "outputs": [],
   "source": [
    "min_distance_global = min(distances_global)\n",
    "max_distance_global = max(distances_global)\n",
    "mean_distance_global = np.mean(distances_global)\n",
    "median_distance_global = np.median(distances_global)\n",
    "variance_distance_global = np.var(distances_global)"
   ]
  },
  {
   "cell_type": "code",
   "execution_count": 156,
   "metadata": {},
   "outputs": [],
   "source": [
    "min_distance_local = min(distances_local)\n",
    "max_distance_local = max(distances_local)\n",
    "mean_distance_local = np.mean(distances_local)\n",
    "median_distance_local = np.median(distances_local)\n",
    "variance_distance_local = np.var(distances_local)"
   ]
  },
  {
   "cell_type": "markdown",
   "metadata": {},
   "source": [
    "*Step 7: Obtaining Euler Number*"
   ]
  },
  {
   "cell_type": "code",
   "execution_count": 162,
   "metadata": {},
   "outputs": [],
   "source": [
    "Euler_global = [prop.euler_number for prop in properties]\n",
    "Euler_local = [prop.euler_number for prop in properties_adaptive]"
   ]
  },
  {
   "cell_type": "code",
   "execution_count": null,
   "metadata": {},
   "outputs": [],
   "source": []
  },
  {
   "cell_type": "code",
   "execution_count": null,
   "metadata": {},
   "outputs": [],
   "source": []
  }
 ],
 "metadata": {
  "kernelspec": {
   "display_name": "Python 3",
   "language": "python",
   "name": "python3"
  },
  "language_info": {
   "codemirror_mode": {
    "name": "ipython",
    "version": 3
   },
   "file_extension": ".py",
   "mimetype": "text/x-python",
   "name": "python",
   "nbconvert_exporter": "python",
   "pygments_lexer": "ipython3",
   "version": "3.7.1"
  }
 },
 "nbformat": 4,
 "nbformat_minor": 2
}
