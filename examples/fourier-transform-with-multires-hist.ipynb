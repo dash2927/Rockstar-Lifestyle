{
 "cells": [
  {
   "cell_type": "markdown",
   "metadata": {},
   "source": [
    "## Purpose: To practice the Fourier Transform on images "
   ]
  },
  {
   "cell_type": "markdown",
   "metadata": {},
   "source": [
    "*Step 1: Importing necessary packages*"
   ]
  },
  {
   "cell_type": "code",
   "execution_count": 1,
   "metadata": {},
   "outputs": [
    {
     "name": "stdout",
     "output_type": "stream",
     "text": [
      "/Users/HawleyHelm/Desktop/CHE_545_546/Rockstar-Lifestyle/examples\n",
      "/anaconda3/lib/python37.zip\n",
      "/anaconda3/lib/python3.7\n",
      "/anaconda3/lib/python3.7/lib-dynload\n",
      "\n",
      "/Users/HawleyHelm/.local/lib/python3.7/site-packages\n",
      "/anaconda3/lib/python3.7/site-packages\n",
      "/anaconda3/lib/python3.7/site-packages/aeosa\n",
      "/Users/HawleyHelm/diff_classifier\n",
      "/anaconda3/lib/python3.7/site-packages/fijibin-0.3.0-py3.7.egg\n",
      "/anaconda3/lib/python3.7/site-packages/Shapely-1.7a1-py3.7-macosx-10.7-x86_64.egg\n",
      "/anaconda3/lib/python3.7/site-packages/boto3-1.9.86-py3.7.egg\n",
      "/anaconda3/lib/python3.7/site-packages/sklearn-0.0-py3.7.egg\n",
      "/anaconda3/lib/python3.7/site-packages/pytest-4.1.0-py3.7.egg\n",
      "/anaconda3/lib/python3.7/site-packages/coveralls-1.5.1-py3.7.egg\n",
      "/anaconda3/lib/python3.7/site-packages/coverage-4.5.2-py3.7-macosx-10.7-x86_64.egg\n",
      "/anaconda3/lib/python3.7/site-packages/pydebug-1.0.3-py3.7.egg\n",
      "/anaconda3/lib/python3.7/site-packages/s3transfer-0.1.13-py3.7.egg\n",
      "/anaconda3/lib/python3.7/site-packages/jmespath-0.9.3-py3.7.egg\n",
      "/anaconda3/lib/python3.7/site-packages/botocore-1.12.86-py3.7.egg\n",
      "/anaconda3/lib/python3.7/site-packages/docopt-0.6.2-py3.7.egg\n",
      "/anaconda3/lib/python3.7/site-packages/IPython/extensions\n",
      "/Users/HawleyHelm/.ipython\n",
      "/Users/HawleyHelm/Desktop/CHE_545_546/Rockstar-Lifestyle\n"
     ]
    }
   ],
   "source": [
    "import sys\n",
    "sys.path.append('/Users/HawleyHelm/Desktop/CHE_545_546/Rockstar-Lifestyle')\n",
    "for item in sys.path:\n",
    "    print(item)\n"
   ]
  },
  {
   "cell_type": "code",
   "execution_count": 3,
   "metadata": {},
   "outputs": [
    {
     "ename": "ModuleNotFoundError",
     "evalue": "No module named 'preprocessing'",
     "output_type": "error",
     "traceback": [
      "\u001b[0;31m---------------------------------------------------------------------------\u001b[0m",
      "\u001b[0;31mModuleNotFoundError\u001b[0m                       Traceback (most recent call last)",
      "\u001b[0;32m<ipython-input-3-e4fb66a2e1dc>\u001b[0m in \u001b[0;36m<module>\u001b[0;34m\u001b[0m\n\u001b[1;32m      8\u001b[0m \u001b[0;32mfrom\u001b[0m \u001b[0mRockstarLifestyle\u001b[0m \u001b[0;32mimport\u001b[0m \u001b[0mMultiresHist\u001b[0m \u001b[0;32mas\u001b[0m \u001b[0mmult\u001b[0m\u001b[0;34m\u001b[0m\u001b[0;34m\u001b[0m\u001b[0m\n\u001b[1;32m      9\u001b[0m \u001b[0;32mfrom\u001b[0m \u001b[0mRockstarLifestyle\u001b[0m \u001b[0;32mimport\u001b[0m \u001b[0mfouriertransform\u001b[0m \u001b[0;32mas\u001b[0m \u001b[0mft\u001b[0m\u001b[0;34m\u001b[0m\u001b[0;34m\u001b[0m\u001b[0m\n\u001b[0;32m---> 10\u001b[0;31m \u001b[0;32mimport\u001b[0m \u001b[0mpreprocessing\u001b[0m\u001b[0;34m\u001b[0m\u001b[0;34m\u001b[0m\u001b[0m\n\u001b[0m",
      "\u001b[0;31mModuleNotFoundError\u001b[0m: No module named 'preprocessing'"
     ]
    }
   ],
   "source": [
    "from PIL import Image, ImageFilter, ImageEnhance\n",
    "import numpy as np\n",
    "from matplotlib import pyplot as plt\n",
    "%matplotlib inline\n",
    "import scipy\n",
    "from scipy.ndimage import gaussian_filter\n",
    "import RockstarLifestyle\n",
    "from RockstarLifestyle import MultiresHist as mult\n",
    "from RockstarLifestyle import fouriertransform as ft\n",
    "#import preprocessing"
   ]
  },
  {
   "cell_type": "code",
   "execution_count": null,
   "metadata": {},
   "outputs": [],
   "source": []
  },
  {
   "cell_type": "markdown",
   "metadata": {},
   "source": [
    "*Step 2: User Input Constants*"
   ]
  },
  {
   "cell_type": "code",
   "execution_count": null,
   "metadata": {},
   "outputs": [],
   "source": [
    "#List of the number of bins you want for the histograms\n",
    "bin_list = [3]\n",
    "\n",
    "#List for the gaussian blur sigma variable\n",
    "gauss_blur_list = [0,1] #Funciton only works for two gauss blurs currently\n",
    "\n",
    "#Contrast value for the image enhancement later\n",
    "contrast_value = 200.0"
   ]
  },
  {
   "cell_type": "markdown",
   "metadata": {},
   "source": [
    "*Step 3: Importing the image and saving it as a variable without converting to greyscale*"
   ]
  },
  {
   "cell_type": "code",
   "execution_count": null,
   "metadata": {},
   "outputs": [],
   "source": [
    "im =  Image.open(\"/Users/HawleyHelm/Desktop/P35_LPS_ipsi_40x_zstack_cells_MaxIP.png\")"
   ]
  },
  {
   "cell_type": "markdown",
   "metadata": {},
   "source": [
    "*Step 3: Splitting the channels into R, G, B Values*"
   ]
  },
  {
   "cell_type": "code",
   "execution_count": null,
   "metadata": {},
   "outputs": [],
   "source": [
    "r,g,b = im.split()"
   ]
  },
  {
   "cell_type": "markdown",
   "metadata": {},
   "source": [
    "*Step 4: Obtaining the magnitude spectrum of the green image split*"
   ]
  },
  {
   "cell_type": "code",
   "execution_count": null,
   "metadata": {},
   "outputs": [],
   "source": [
    "m_spec = ft.Magnitude_Spectrum(g)"
   ]
  },
  {
   "cell_type": "markdown",
   "metadata": {},
   "source": [
    "*Step 5: Showing the magnitude spectrum for fun*"
   ]
  },
  {
   "cell_type": "code",
   "execution_count": null,
   "metadata": {},
   "outputs": [],
   "source": [
    "ft.Plot_M_Spec(m_spec)"
   ]
  },
  {
   "cell_type": "markdown",
   "metadata": {},
   "source": [
    "*Step 6: Increasing contrast on magnitude spectrum*"
   ]
  },
  {
   "cell_type": "code",
   "execution_count": null,
   "metadata": {},
   "outputs": [],
   "source": [
    "enhanced_im  = preprocessing.im_contrast(m_spec, contrast_value)"
   ]
  },
  {
   "cell_type": "markdown",
   "metadata": {},
   "source": [
    "*Step 7: Obtaining the Multi-Resolution Histograms of the enhanced Magnitude Spectrum image*"
   ]
  },
  {
   "cell_type": "code",
   "execution_count": null,
   "metadata": {},
   "outputs": [],
   "source": [
    "mult.Multi_res_hist_full(enhanced_im, bin_list, gauss_blur_list)"
   ]
  },
  {
   "cell_type": "code",
   "execution_count": null,
   "metadata": {},
   "outputs": [],
   "source": []
  }
 ],
 "metadata": {
  "kernelspec": {
   "display_name": "Python 3",
   "language": "python",
   "name": "python3"
  },
  "language_info": {
   "codemirror_mode": {
    "name": "ipython",
    "version": 3
   },
   "file_extension": ".py",
   "mimetype": "text/x-python",
   "name": "python",
   "nbconvert_exporter": "python",
   "pygments_lexer": "ipython3",
   "version": "3.7.1"
  }
 },
 "nbformat": 4,
 "nbformat_minor": 2
}
