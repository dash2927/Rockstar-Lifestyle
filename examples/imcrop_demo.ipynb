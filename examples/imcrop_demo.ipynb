{
 "cells": [
  {
   "cell_type": "markdown",
   "metadata": {},
   "source": [
    "# Image Cropping and Manipulation Using Python"
   ]
  },
  {
   "cell_type": "markdown",
   "metadata": {},
   "source": [
    "### The folling jupyter notebook will use image manipulation and image cropping in order to get datasets for a neural network. It uses the imcrop.py python file and manipulates using multihistogram.py\n",
    "\n",
    "---\n",
    "\n",
    "The following functions will be used:\n",
    "\n",
    "* imgCrop(path = '', file = '', filetype = '.png', res = (256,256))\n",
    "    * Description: This function acts as a wrapper for the entire py file. It will input an image file and given resolution and output a stacked set of cropped tif images. It also saves the set into a tif image set on the current folder.\n",
    "    * Parameters: \n",
    "    \n",
    "        - path: String of path of file in the form of r\"C:/.../.../\"\n",
    "        - file: String of file name to crop\n",
    "        - filetype: Type of file - only use '.png' or '.tif'\n",
    "        - res: resolution (res_x, res_y) in pixels of cropped image\n",
    "    \n",
    "    * Output:\n",
    "        - img_stack : (n, res_x, res_y) array of n stacks of cropped images\n",
    "    \n",
    "* __imgSave(td, stacked_img)\n",
    "    * Description: This function is a private function for imCrop() that saves the given image array to a tif file with given metadata.\n",
    "    * Parameters: \n",
    "    \n",
    "        - td : object : tileData() object containing required data\n",
    "    \n",
    "    * Output:\n",
    "        - stacked_img : (n, res_x, res_y) array of n stacks of\n",
    "    \n",
    "* __crop(td)\n",
    "    * Description: This private function for imCrop() crops an image attached to object td based on its applied resolution\n",
    "    * Parameters: \n",
    "    \n",
    "        - td : object : tileData() object containing required data\n",
    "    \n",
    "    * Output:\n",
    "        - img_stack : np.uint16 : (n, res_x, res_y) array of n stacks of cropped images\n",
    "    \n",
    "* stackLoad(path = '', file = '')\n",
    "    * Description: This function loads the given cropped stacked image into a numpy arrays\n",
    "    * Parameters: \n",
    "    \n",
    "        - path: str : String of path of file in the form of r\"C:/.../.../\"\n",
    "        - file: str : String of file name\n",
    "    \n",
    "    * Output:\n",
    "        - An (n, res_x, res_y) array of n stacks of cropped images\n",
    "\n",
    "* stackMRH(stacked_img)\n",
    "    * Description: This function loads the given cropped stacked image into a numpy arrays\n",
    "    * Parameters: \n",
    "    \n",
    "        - stacked_img : a 3d array containing all stacked images\n",
    "    \n",
    "    * Output:\n",
    "        - objlist : an object array containing descriptors for every cropped image\n",
    "\n",
    "The following objects will be used:\n",
    "\n",
    "* imgID()\n",
    "    * Description: Descriptor object for given image\n",
    "    * Contains:\n",
    "        - name : dict of the image# in the crop\n",
    "        - image : image data\n",
    "        - MRH : Multi Resolution Histogram data for image\n",
    "        - GB : Gaussian blur data for image\n",
    "        - bin_list : bin list for corresponding MRH\n",
    "        - count : number of objects in image\n",
    "    \n",
    "* tileData()\n",
    "    * Description: Identifier for ever tile crop for later ease of use in stacking\n",
    "    * Contains:\n",
    "        - im_path : string of image path given by user\n",
    "        - res : resolution given by user\n",
    "        - Data : image data from crop\n",
    "    \n"
   ]
  },
  {
   "cell_type": "code",
   "execution_count": null,
   "metadata": {},
   "outputs": [],
   "source": []
  },
  {
   "cell_type": "code",
   "execution_count": null,
   "metadata": {},
   "outputs": [],
   "source": [
    "The first step is to define "
   ]
  }
 ],
 "metadata": {
  "kernelspec": {
   "display_name": "Python 3",
   "language": "python",
   "name": "python3"
  },
  "language_info": {
   "codemirror_mode": {
    "name": "ipython",
    "version": 3
   },
   "file_extension": ".py",
   "mimetype": "text/x-python",
   "name": "python",
   "nbconvert_exporter": "python",
   "pygments_lexer": "ipython3",
   "version": "3.7.1"
  }
 },
 "nbformat": 4,
 "nbformat_minor": 2
}
