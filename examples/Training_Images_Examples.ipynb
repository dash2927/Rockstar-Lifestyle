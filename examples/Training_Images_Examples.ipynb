{
 "cells": [
  {
   "cell_type": "code",
   "execution_count": 4,
   "metadata": {},
   "outputs": [],
   "source": [
    "#A cell to import all needed modules \n",
    "#for the following functions\n",
    "from PIL import Image, ImageDraw\n",
    "from random import randint\n",
    "import numpy as np\n",
    "import pandas as pd"
   ]
  },
  {
   "cell_type": "markdown",
   "metadata": {},
   "source": [
    "## Random pixel image generator, counter function and examples \n",
    "\n",
    "These are non-integrated examples of how to use them if one would like to use these to generate images outside of the scope of what has already been done.  "
   ]
  },
  {
   "cell_type": "code",
   "execution_count": 10,
   "metadata": {},
   "outputs": [],
   "source": [
    "def image_generator(n):\n",
    "    \"\"\"Generates a number of images with randomized white pixels on a black background\"\"\"\n",
    "    i=0\n",
    "    j=0\n",
    "    k=0\n",
    "    imgarray = [] #sets up the output array\n",
    "    for i in range(0, n): #begins the counter on number of images based on the input\n",
    "        img = Image.new('L', [250, 250]) #creates a 250x250 pixel image\n",
    "        draw = ImageDraw.Draw(img)\n",
    "        np.random.seed(123+i) #creates reproducibility in randomness that changes with each iteration\n",
    "        for j in range(0,img.size[0]):#Creates random starting points for pixels\n",
    "            for k in range(0, img.size[0]):\n",
    "                a = randint(0,50)+(3*j)\n",
    "                b = randint(0,50)+(3*k)\n",
    "                c = a+1\n",
    "                d = b+1\n",
    "                draw.ellipse([a,b,c,d], fill=255)\n",
    "                k=k+randint(90,100) #creates random jumps in the counter\n",
    "            j = j+randint(90,100)\n",
    "        array = np.array(img)#saves the image as a numpy array\n",
    "        imgarray.append(array)#adds new array to the list of arrays\n",
    "        print(type(imgarray))\n",
    "        print(imgarray)\n",
    "    return imgarray"
   ]
  },
  {
   "cell_type": "code",
   "execution_count": 11,
   "metadata": {},
   "outputs": [],
   "source": [
    "def pixel_counter_single_image(array, array_index):\n",
    "    \"\"\"Counts the number of colored pixels for a single image\"\"\"    \n",
    "    black = 0 #sets the counter to 0\n",
    "    obj = 0 #sets the counter to 0\n",
    "    img = Image.fromarray(array[array_index]) #Takes an array and creates an image\n",
    "    for pixel in img.getdata(): #cycles through the pixels in each image\n",
    "        if pixel == 0:\n",
    "            black += 1\n",
    "        else:\n",
    "            obj += 1\n",
    "    print('object=' + str(obj) + ', black=' +str(black))\n",
    "    return"
   ]
  },
  {
   "cell_type": "code",
   "execution_count": 14,
   "metadata": {},
   "outputs": [],
   "source": [
    "def pixel_counter_whole_array(array):\n",
    "    \"\"\"Counts the number of pixels for \"\"\"\n",
    "    i = 0\n",
    "    pixel_count = pd.DataFrame(columns=['Index','Object', \n",
    "                                        'Black', 'Total'])#Creates dataframe for storing count data\n",
    "    for i in range(0,len(array)): #counts through the 'images' in the given array\n",
    "        img = Image.fromarray(array[i])\n",
    "        black = 0\n",
    "        obj = 0\n",
    "        for pixel in img.getdata(): #counts pixels in each image\n",
    "            if pixel == 0:\n",
    "                black += 1\n",
    "            else:\n",
    "                obj += 1\n",
    "        total = black + obj #sums up the number of pixels counted. Images are 250x250\n",
    "        pixel_count.loc[i] = [i, obj, black, total]\n",
    "    print(type(pixel_count))\n",
    "    return pixel_count"
   ]
  },
  {
   "cell_type": "markdown",
   "metadata": {},
   "source": [
    "Below are the examples for the three functions above: image_generator, pixel_counter_single_image, and pixel_counter_whole_array."
   ]
  },
  {
   "cell_type": "markdown",
   "metadata": {},
   "source": [
    "The image_generator function takes the number of images needed as an input and outputs an array of numpy arrays. To silence the output when inputting large numbers to the function set it equal to a variable which can then be used to view the images created.  "
   ]
  },
  {
   "cell_type": "code",
   "execution_count": 15,
   "metadata": {},
   "outputs": [
    {
     "name": "stdout",
     "output_type": "stream",
     "text": [
      "<class 'list'>\n",
      "[array([[  0,   0,   0, ...,   0,   0,   0],\n",
      "       [  0,   0,   0, ...,   0,   0,   0],\n",
      "       [  0,   0,   0, ...,   0,   0,   0],\n",
      "       ...,\n",
      "       [  0,   0,   0, ..., 255,   0,   0],\n",
      "       [  0,   0,   0, ...,   0,   0,   0],\n",
      "       [  0,   0,   0, ...,   0, 255,   0]], dtype=uint8)]\n",
      "<class 'list'>\n",
      "[array([[  0,   0,   0, ...,   0,   0,   0],\n",
      "       [  0,   0,   0, ...,   0,   0,   0],\n",
      "       [  0,   0,   0, ...,   0,   0,   0],\n",
      "       ...,\n",
      "       [  0,   0,   0, ..., 255,   0,   0],\n",
      "       [  0,   0,   0, ...,   0,   0,   0],\n",
      "       [  0,   0,   0, ...,   0, 255,   0]], dtype=uint8), array([[  0,   0,   0, ...,   0,   0,   0],\n",
      "       [  0,   0,   0, ...,   0,   0,   0],\n",
      "       [  0,   0,   0, ...,   0,   0,   0],\n",
      "       ...,\n",
      "       [  0,   0,   0, ...,   0,   0, 255],\n",
      "       [  0,   0,   0, ...,   0, 255,   0],\n",
      "       [  0,   0,   0, ...,   0,   0, 255]], dtype=uint8)]\n"
     ]
    }
   ],
   "source": [
    "test_array = image_generator(2) #generates 2 images with randomized pixel coloring and saves them as a np. array"
   ]
  },
  {
   "cell_type": "code",
   "execution_count": 16,
   "metadata": {},
   "outputs": [
    {
     "data": {
      "image/png": "[encoded data removed]",
      "text/plain": [
       "<PIL.Image.Image image mode=L size=250x250 at 0x1C862D0F940>"
      ]
     },
     "execution_count": 16,
     "metadata": {},
     "output_type": "execute_result"
    }
   ],
   "source": [
    "img = Image.fromarray(test_array[1]) #converts the np array saved in the function above to an image for viewing. \n",
    "img"
   ]
  },
  {
   "cell_type": "markdown",
   "metadata": {},
   "source": [
    "To count the number of pixels the pixel_counter_single_image or pixel_counter_whole_array can be used.  For large numbers of n in the image generator functions it is probably more applicable to run the pixel_counter_whole_array function as it outputs the number of objects in a dataframe which can be parsed through.  For each function the image in array format must be input with the index number for the single_image function.  Examples follow below from the random image generator run above."
   ]
  },
  {
   "cell_type": "code",
   "execution_count": 17,
   "metadata": {
    "scrolled": true
   },
   "outputs": [
    {
     "name": "stdout",
     "output_type": "stream",
     "text": [
      "object=5333, black=57167\n"
     ]
    }
   ],
   "source": [
    "pixel_counter_single_image(test_array, 1) #test_array named above as the input and image 2 (index 1) as the other input. \n",
    "#outputs a printout of how many non-black objects are present and how many background (black) pixels are present."
   ]
  },
  {
   "cell_type": "code",
   "execution_count": 18,
   "metadata": {},
   "outputs": [
    {
     "name": "stdout",
     "output_type": "stream",
     "text": [
      "<class 'pandas.core.frame.DataFrame'>\n"
     ]
    },
    {
     "data": {
      "text/html": [
       "<div>\n",
       "<style scoped>\n",
       "    .dataframe tbody tr th:only-of-type {\n",
       "        vertical-align: middle;\n",
       "    }\n",
       "\n",
       "    .dataframe tbody tr th {\n",
       "        vertical-align: top;\n",
       "    }\n",
       "\n",
       "    .dataframe thead th {\n",
       "        text-align: right;\n",
       "    }\n",
       "</style>\n",
       "<table border=\"1\" class=\"dataframe\">\n",
       "  <thead>\n",
       "    <tr style=\"text-align: right;\">\n",
       "      <th></th>\n",
       "      <th>Index</th>\n",
       "      <th>Object</th>\n",
       "      <th>Black</th>\n",
       "      <th>Total</th>\n",
       "    </tr>\n",
       "  </thead>\n",
       "  <tbody>\n",
       "    <tr>\n",
       "      <th>0</th>\n",
       "      <td>0</td>\n",
       "      <td>5390</td>\n",
       "      <td>57110</td>\n",
       "      <td>62500</td>\n",
       "    </tr>\n",
       "    <tr>\n",
       "      <th>1</th>\n",
       "      <td>1</td>\n",
       "      <td>5333</td>\n",
       "      <td>57167</td>\n",
       "      <td>62500</td>\n",
       "    </tr>\n",
       "  </tbody>\n",
       "</table>\n",
       "</div>"
      ],
      "text/plain": [
       "  Index Object  Black  Total\n",
       "0     0   5390  57110  62500\n",
       "1     1   5333  57167  62500"
      ]
     },
     "execution_count": 18,
     "metadata": {},
     "output_type": "execute_result"
    }
   ],
   "source": [
    "pixel_counter_whole_array(test_array)#test_array named above as the input. \n",
    "#outputs a datafram of how many non-black objects are present and how many background (black) pixels are present as well as\n",
    "#the total number of pixels counted.  For a 250x250 image or numpy array there would be 62500 pixels counted.  "
   ]
  },
  {
   "cell_type": "markdown",
   "metadata": {},
   "source": [
    "## Image generator with patterned circles, counter function and examples"
   ]
  },
  {
   "cell_type": "code",
   "execution_count": 9,
   "metadata": {},
   "outputs": [],
   "source": [
    "def image_generator_circles(n):\n",
    "    \"\"\"Generates a number of images with randomized white circles on a black background\"\"\"\n",
    "    np.random.seed(125) #creates the ability for the randomness to be reproducible\n",
    "    i=0\n",
    "    j=2\n",
    "    k=2\n",
    "    imgarray = []\n",
    "    for i in range(0, n):\n",
    "        img = Image.new('L', [250, 250]) #creates a 250x250 pixel image\n",
    "        draw = ImageDraw.Draw(img) \n",
    "        y = randint(9,50)\n",
    "        z = randint(9,50)\n",
    "        for k in range (2, 240, y):\n",
    "            for j in range (2, 240, z): \n",
    "                a = j\n",
    "                b = k\n",
    "                c = j+8\n",
    "                d = k+8\n",
    "                draw.ellipse([a,b,c,d], fill=255)       \n",
    "        array = np.array(img)#saves the image as a numpy array\n",
    "        imgarray.append(array)#adds a callable feature for arrays\n",
    "    return imgarray"
   ]
  },
  {
   "cell_type": "code",
   "execution_count": 27,
   "metadata": {},
   "outputs": [],
   "source": [
    "def pixel_counter_single_image_circles(array, array_index):\n",
    "    \"\"\"Counts the number of pixels for individual circle images\"\"\"\n",
    "    black = 0\n",
    "    obj = 0\n",
    "    img = Image.fromarray(array[array_index])#transforms np array into image in order to count pixels\n",
    "    for pixel in img.getdata(): #iterates through pixels within in the image\n",
    "        if pixel == 0:\n",
    "            black += 1\n",
    "        else:\n",
    "            obj += 1\n",
    "    obj_normalized = obj/(69) #each full circle has 69 pixels in it.\n",
    "    print('object=' + str(obj_normalized) + ', black=' +str(black))\n",
    "    return"
   ]
  },
  {
   "cell_type": "code",
   "execution_count": 28,
   "metadata": {},
   "outputs": [],
   "source": [
    "def pixel_counter_whole_array_circles(array):\n",
    "    \"\"\"Counts the number of pixels for the array of circle images\"\"\"\n",
    "    i = 0\n",
    "    pixel_count = pd.DataFrame(columns=['Index','Object', \n",
    "                                        'Black', 'Total'])#Creates dataframe for storing count data\n",
    "    for i in range(0,len(array)): #counts through the 'images' in the given array\n",
    "        img = Image.fromarray(array[i])\n",
    "        black = 0\n",
    "        obj = 0\n",
    "        for pixel in img.getdata(): #counts pixels in each image\n",
    "            if pixel == 0:\n",
    "                black += 1\n",
    "            else:\n",
    "                obj += 1\n",
    "        obj_normalized = obj/(69)\n",
    "        total = black + obj #sums up the number of pixels counted. Images are 250x250 so 62500 pixels should be counted.\n",
    "        pixel_count.loc[i] = [i, obj_normalized, black, total] #updates the dataframe with the counts\n",
    "    return pixel_count"
   ]
  },
  {
   "cell_type": "markdown",
   "metadata": {},
   "source": [
    "Below are the examples for the three functions above: image_generator_circles, pixel_counter_single_image_circles, and pixel_counter_whole_array_circles."
   ]
  },
  {
   "cell_type": "markdown",
   "metadata": {},
   "source": [
    "The image_generator_circles function takes the number of images needed as an input and outputs an array of numpy arrays. To silence the output when inputting large numbers to the function set it equal to a variable which can then be used to view the images created."
   ]
  },
  {
   "cell_type": "code",
   "execution_count": 29,
   "metadata": {},
   "outputs": [],
   "source": [
    "test = image_generator_circles(3) #Input of 3 generates 3 images from this function and outputs an \n",
    "#array holding the np arrays of the images. Names the function tests as a callable attribute."
   ]
  },
  {
   "cell_type": "code",
   "execution_count": 30,
   "metadata": {},
   "outputs": [
    {
     "data": {
      "image/png": "[encoded data removed]",
      "text/plain": [
       "<PIL.Image.Image image mode=L size=250x250 at 0x21A6C525AC8>"
      ]
     },
     "execution_count": 30,
     "metadata": {},
     "output_type": "execute_result"
    }
   ],
   "source": [
    "img = Image.fromarray(test[0]) #Converts the np array from the 'test' variable into an image and names it a callable \n",
    "#variable 'img'.  \n",
    "img"
   ]
  },
  {
   "cell_type": "markdown",
   "metadata": {},
   "source": [
    "To count the number of pixels the pixel_counter_single_image_circles or pixel_counter_whole_array_circles can be used.  For large numbers of n in the image generator functions it is probably more applicable to run the pixel_counter_whole_array_circles function as it outputs the number of objects in a dataframe which can be parsed through.  For each function the image in array format must be input with the index number for the single_image function.  Examples follow below from the random image generator run above."
   ]
  },
  {
   "cell_type": "code",
   "execution_count": 31,
   "metadata": {},
   "outputs": [
    {
     "name": "stdout",
     "output_type": "stream",
     "text": [
      "object=168.0, black=50908\n"
     ]
    }
   ],
   "source": [
    "pixel_counter_single_image_circles(test, 0) #Uses the test varaible of arrays and the index of 0 to count the background\n",
    "#pixels and objects in the image.  Outputs the print string of these values."
   ]
  },
  {
   "cell_type": "code",
   "execution_count": 32,
   "metadata": {},
   "outputs": [
    {
     "data": {
      "text/html": [
       "<div>\n",
       "<style scoped>\n",
       "    .dataframe tbody tr th:only-of-type {\n",
       "        vertical-align: middle;\n",
       "    }\n",
       "\n",
       "    .dataframe tbody tr th {\n",
       "        vertical-align: top;\n",
       "    }\n",
       "\n",
       "    .dataframe thead th {\n",
       "        text-align: right;\n",
       "    }\n",
       "</style>\n",
       "<table border=\"1\" class=\"dataframe\">\n",
       "  <thead>\n",
       "    <tr style=\"text-align: right;\">\n",
       "      <th></th>\n",
       "      <th>Index</th>\n",
       "      <th>Object</th>\n",
       "      <th>Black</th>\n",
       "      <th>Total</th>\n",
       "    </tr>\n",
       "  </thead>\n",
       "  <tbody>\n",
       "    <tr>\n",
       "      <th>0</th>\n",
       "      <td>0.0</td>\n",
       "      <td>168.0</td>\n",
       "      <td>50908.0</td>\n",
       "      <td>62500.0</td>\n",
       "    </tr>\n",
       "    <tr>\n",
       "      <th>1</th>\n",
       "      <td>1.0</td>\n",
       "      <td>49.0</td>\n",
       "      <td>59119.0</td>\n",
       "      <td>62500.0</td>\n",
       "    </tr>\n",
       "    <tr>\n",
       "      <th>2</th>\n",
       "      <td>2.0</td>\n",
       "      <td>104.0</td>\n",
       "      <td>55324.0</td>\n",
       "      <td>62500.0</td>\n",
       "    </tr>\n",
       "  </tbody>\n",
       "</table>\n",
       "</div>"
      ],
      "text/plain": [
       "   Index  Object    Black    Total\n",
       "0    0.0   168.0  50908.0  62500.0\n",
       "1    1.0    49.0  59119.0  62500.0\n",
       "2    2.0   104.0  55324.0  62500.0"
      ]
     },
     "execution_count": 32,
     "metadata": {},
     "output_type": "execute_result"
    }
   ],
   "source": [
    "pixel_counter_whole_array_circles(test) #Uses the array generated from the circles image generator as an input and counts \n",
    "#the number of objects within the image. Outputs a dataframe. "
   ]
  },
  {
   "cell_type": "markdown",
   "metadata": {},
   "source": [
    "## Image generator of rectangles with object counters and examples"
   ]
  },
  {
   "cell_type": "code",
   "execution_count": 16,
   "metadata": {},
   "outputs": [],
   "source": [
    "def image_generator_rectangles(n):\n",
    "    \"\"\"Generates a number of images with randomized white rectangles on a black background\"\"\"\n",
    "    np.random.seed(126) #Seeds the randomness for reproducibilitiy\n",
    "    i=0\n",
    "    j=2\n",
    "    k=2\n",
    "    imgarray = []\n",
    "    for i in range(0, n):\n",
    "        img = Image.new('L', [250, 250]) #creates a 250x250 pixel image\n",
    "        draw = ImageDraw.Draw(img) \n",
    "        y = randint(9,50) #creates random jumps for the counter to have different patterns per image\n",
    "        z = randint(9,50)\n",
    "        for k in range (2, 240, y):\n",
    "            for j in range (2, 240, z):\n",
    "                a = j\n",
    "                b = k\n",
    "                c = j+4\n",
    "                d = k+4\n",
    "                draw.rectangle([a,b,c,d], fill=255)       \n",
    "        array = np.array(img)#saves the image as a numpy array\n",
    "        imgarray.append(array)#adds a callable feature for arrays\n",
    "    return imgarray"
   ]
  },
  {
   "cell_type": "code",
   "execution_count": 17,
   "metadata": {},
   "outputs": [],
   "source": [
    "def pixel_counter_single_image_rectangles(array, array_index):\n",
    "    \"\"\"Counts the number of pixels for individual rectangle images\"\"\"\n",
    "    black = 0\n",
    "    obj = 0\n",
    "    img = Image.fromarray(array[array_index]) #converts image from array into an image\n",
    "    for pixel in img.getdata(): #cycles through each pixel in the image\n",
    "        if pixel == 0:\n",
    "            black += 1\n",
    "        else:\n",
    "            obj += 1\n",
    "    obj_normalized = obj/(25) #normalizes the number of pixels per square\n",
    "    print('object=' + str(obj_normalized) + ', black=' +str(black))\n",
    "    return"
   ]
  },
  {
   "cell_type": "code",
   "execution_count": 18,
   "metadata": {},
   "outputs": [],
   "source": [
    "def pixel_counter_whole_array_rectangles(array):\n",
    "    \"\"\"Counts the number of pixels for the array of rectangle images\"\"\"\n",
    "    i = 0\n",
    "    pixel_count = pd.DataFrame(columns=['Index','Object','Black', 'Total'])#Creates dataframe for storing count data\n",
    "    for i in range(0,len(array)): #counts through the 'images' in the given array\n",
    "        img = Image.fromarray(array[i])\n",
    "        black = 0\n",
    "        obj = 0\n",
    "        for pixel in img.getdata(): #counts pixels in each image\n",
    "            if pixel == 0:\n",
    "                black += 1\n",
    "            else:\n",
    "                obj += 1\n",
    "        obj_normalized = obj/(25)#normalizes the number of pixels per square\n",
    "        total = black + obj #sums up the number of pixels counted. Images are 250x250 so 62500 pixels should be counted.\n",
    "        pixel_count.loc[i] = [i, obj_normalized, black, total] #updates the dataframe with the counts\n",
    "    return pixel_count"
   ]
  },
  {
   "cell_type": "markdown",
   "metadata": {},
   "source": [
    "Below are the examples for the three functions above: image_generator_rectangles, pixel_counter_single_image_rectangles, and pixel_counter_whole_array_rectangles."
   ]
  },
  {
   "cell_type": "code",
   "execution_count": 19,
   "metadata": {},
   "outputs": [],
   "source": [
    "test_rectangles = image_generator_rectangles(3) #Will produce 3 images based on the numeric input.\n",
    "#test_rectangles variable named so that the function output can be called in future processes."
   ]
  },
  {
   "cell_type": "code",
   "execution_count": 20,
   "metadata": {},
   "outputs": [
    {
     "data": {
      "image/png": "[encoded data removed]",
      "text/plain": [
       "<PIL.Image.Image image mode=L size=250x250 at 0x21A6C525898>"
      ]
     },
     "execution_count": 20,
     "metadata": {},
     "output_type": "execute_result"
    }
   ],
   "source": [
    "img = Image.fromarray(test_rectangles[0]) #Converts one np array from the generator into an image for viewing.\n",
    "img"
   ]
  },
  {
   "cell_type": "markdown",
   "metadata": {},
   "source": [
    "To count the number of pixels the pixel_counter_single_image_rectangles or pixel_counter_whole_array_rectangles can be used.  For large numbers of n in the image generator functions it is probably more applicable to run the pixel_counter_whole_array_rectangles function as it outputs the number of objects in a dataframe which can be parsed through.  For each function the image in array format must be input with the index number for the single_image_rectactangles function.  Examples follow below from the random image generator run above."
   ]
  },
  {
   "cell_type": "code",
   "execution_count": 21,
   "metadata": {},
   "outputs": [
    {
     "name": "stdout",
     "output_type": "stream",
     "text": [
      "object=49.0, black=61275\n"
     ]
    }
   ],
   "source": [
    "pixel_counter_single_image_rectangles(test_rectangles, 0) #Using the test_rectangles array and a specific index the output\n",
    "#will be the number of objects present in the image."
   ]
  },
  {
   "cell_type": "code",
   "execution_count": 22,
   "metadata": {},
   "outputs": [
    {
     "data": {
      "text/html": [
       "<div>\n",
       "<style scoped>\n",
       "    .dataframe tbody tr th:only-of-type {\n",
       "        vertical-align: middle;\n",
       "    }\n",
       "\n",
       "    .dataframe tbody tr th {\n",
       "        vertical-align: top;\n",
       "    }\n",
       "\n",
       "    .dataframe thead th {\n",
       "        text-align: right;\n",
       "    }\n",
       "</style>\n",
       "<table border=\"1\" class=\"dataframe\">\n",
       "  <thead>\n",
       "    <tr style=\"text-align: right;\">\n",
       "      <th></th>\n",
       "      <th>Index</th>\n",
       "      <th>Object</th>\n",
       "      <th>Black</th>\n",
       "      <th>Total</th>\n",
       "    </tr>\n",
       "  </thead>\n",
       "  <tbody>\n",
       "    <tr>\n",
       "      <th>0</th>\n",
       "      <td>0.0</td>\n",
       "      <td>49.0</td>\n",
       "      <td>61275.0</td>\n",
       "      <td>62500.0</td>\n",
       "    </tr>\n",
       "    <tr>\n",
       "      <th>1</th>\n",
       "      <td>1.0</td>\n",
       "      <td>30.0</td>\n",
       "      <td>61750.0</td>\n",
       "      <td>62500.0</td>\n",
       "    </tr>\n",
       "    <tr>\n",
       "      <th>2</th>\n",
       "      <td>2.0</td>\n",
       "      <td>45.0</td>\n",
       "      <td>61375.0</td>\n",
       "      <td>62500.0</td>\n",
       "    </tr>\n",
       "  </tbody>\n",
       "</table>\n",
       "</div>"
      ],
      "text/plain": [
       "   Index  Object    Black    Total\n",
       "0    0.0    49.0  61275.0  62500.0\n",
       "1    1.0    30.0  61750.0  62500.0\n",
       "2    2.0    45.0  61375.0  62500.0"
      ]
     },
     "execution_count": 22,
     "metadata": {},
     "output_type": "execute_result"
    }
   ],
   "source": [
    "pixel_counter_whole_array_rectangles(test_rectangles) #Using the test_rectangles array the ouput will be the number of \n",
    "#objects present in the image."
   ]
  },
  {
   "cell_type": "markdown",
   "metadata": {},
   "source": [
    "## Image generator of rectangles and circles with examples"
   ]
  },
  {
   "cell_type": "code",
   "execution_count": 23,
   "metadata": {},
   "outputs": [],
   "source": [
    "def image_generator_circles_and_rectangles(n):\n",
    "    np.random.seed(127)\n",
    "    i=0\n",
    "    j=2\n",
    "    k=2\n",
    "    imgarray = []\n",
    "    for i in range(0, n):\n",
    "        img = Image.new('L', [250, 250]) #creates a 250x250 pixel image\n",
    "        draw = ImageDraw.Draw(img) \n",
    "        w = randint(20,50) #creates random line assignments for circles and rectangles\n",
    "        x = randint(20,50)\n",
    "        y = randint(9,40)\n",
    "        z = randint(9,40)\n",
    "        for k in range (2, 240, w):\n",
    "            for j in range (2, 240, x): \n",
    "                a = j\n",
    "                b = k\n",
    "                c = j+8\n",
    "                d = k+8\n",
    "                draw.ellipse([a,b,c,d], fill=255)\n",
    "        for m in range (2, 240, y):\n",
    "            for n in range (2, 240, z):\n",
    "                e = m\n",
    "                f = n\n",
    "                g = m+4\n",
    "                h = n+4\n",
    "                draw.rectangle([e,f,g,h], fill=255)\n",
    "        array = np.array(img)#saves the image as a numpy array\n",
    "        imgarray.append(array)#adds a callable feature for arrays\n",
    "    \n",
    "    return imgarray"
   ]
  },
  {
   "cell_type": "markdown",
   "metadata": {},
   "source": [
    "The image_generator_circles_and_rectangles function takes the number of images needed as an input and outputs an array of numpy arrays. To silence the output when inputting large numbers to the function set it equal to a variable which can then be used to view the images created."
   ]
  },
  {
   "cell_type": "code",
   "execution_count": 24,
   "metadata": {},
   "outputs": [],
   "source": [
    "test_circles_and_rectangles = image_generator_circles_and_rectangles(2) #Using the number of images wanted as an input (2) an array of \n",
    "#image arrays will be the output."
   ]
  },
  {
   "cell_type": "code",
   "execution_count": 25,
   "metadata": {},
   "outputs": [
    {
     "data": {
      "image/png": "[encoded data removed]",
      "text/plain": [
       "<PIL.Image.Image image mode=L size=250x250 at 0x21A6C53C8D0>"
      ]
     },
     "execution_count": 25,
     "metadata": {},
     "output_type": "execute_result"
    }
   ],
   "source": [
    "img = Image.fromarray(test_circles_and_rectangles[0]) #converting the output array to a visual image.\n",
    "img"
   ]
  }
 ],
 "metadata": {
  "kernelspec": {
   "display_name": "Python 3",
   "language": "python",
   "name": "python3"
  },
  "language_info": {
   "codemirror_mode": {
    "name": "ipython",
    "version": 3
   },
   "file_extension": ".py",
   "mimetype": "text/x-python",
   "name": "python",
   "nbconvert_exporter": "python",
   "pygments_lexer": "ipython3",
   "version": "3.6.8"
  }
 },
 "nbformat": 4,
 "nbformat_minor": 2
}
