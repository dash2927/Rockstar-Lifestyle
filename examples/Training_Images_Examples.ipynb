{
 "cells": [
  {
   "cell_type": "code",
   "execution_count": 1,
   "metadata": {
    "scrolled": true
   },
   "outputs": [],
   "source": [
    "#A cell to import all needed modules \n",
    "#for the following functions\n",
    "from PIL import Image, ImageDraw\n",
    "from random import randint\n",
    "import numpy as np\n",
    "import pandas as pd\n",
    "\n",
    "from rockstarlifestyle import training_images"
   ]
  },
  {
   "cell_type": "markdown",
   "metadata": {},
   "source": [
    "## Random pixel image generator, counter function and examples \n",
    "\n",
    "These are non-integrated examples of how to use them if one would like to use these to generate images outside of the scope of what has already been done.  "
   ]
  },
  {
   "cell_type": "markdown",
   "metadata": {},
   "source": [
    "Below are the examples for the three functions: `rand_im_gen`, `pix_count_im`, and `pix_count_array`."
   ]
  },
  {
   "cell_type": "markdown",
   "metadata": {},
   "source": [
    "The `rand_im_gen` function takes the number of images needed as an input and outputs an array of numpy arrays. To silence the output when inputting large numbers to the function set it equal to a variable which can then be used to view the images created.  "
   ]
  },
  {
   "cell_type": "code",
   "execution_count": 3,
   "metadata": {},
   "outputs": [],
   "source": [
    "test_array = training_images.rand_im_gen(2) #generates 2 images with randomized pixel coloring and saves them as a np. array"
   ]
  },
  {
   "cell_type": "code",
   "execution_count": null,
   "metadata": {},
   "outputs": [],
   "source": [
    "img = Image.fromarray(test_array[1]) #converts the np array saved in the function above to an image for viewing. \n",
    "img"
   ]
  },
  {
   "cell_type": "markdown",
   "metadata": {},
   "source": [
    "To count the number of pixels the `pix_count_im` or `pix_count_array` can be used.  For large numbers of n in the image generator functions it is probably more applicable to run the `pix_count_array` function as it outputs the number of objects in a dataframe which can be parsed through.  For each function the image in array format must be input with the index number for the `pix_count_im` function.  Examples follow below from the random image generator run above."
   ]
  },
  {
   "cell_type": "code",
   "execution_count": null,
   "metadata": {
    "scrolled": true
   },
   "outputs": [],
   "source": [
    "training_images.pix_count_im(test_array, 1) #test_array named above as the input and image 2 (index 1) as the other input. \n",
    "#outputs a printout of how many non-black objects are present and how many background (black) pixels are present."
   ]
  },
  {
   "cell_type": "code",
   "execution_count": null,
   "metadata": {},
   "outputs": [],
   "source": [
    "training_images.pix_count_array(test_array)#test_array named above as the input. \n",
    "#outputs a datafram of how many non-black objects are present and how many background (black) pixels are present as well as\n",
    "#the total number of pixels counted.  For a 250x250 image or numpy array there would be 62500 pixels counted.  "
   ]
  },
  {
   "cell_type": "markdown",
   "metadata": {},
   "source": [
    "## Image generator with patterned circles, counter function and examples"
   ]
  },
  {
   "cell_type": "markdown",
   "metadata": {},
   "source": [
    "Below are the examples for the three functions above: `im_gen_circles`, `pix_count_im_circles`, and `pix_count_array_circles`."
   ]
  },
  {
   "cell_type": "markdown",
   "metadata": {},
   "source": [
    "The `im_gen_circles` function takes the number of images needed as an input and outputs an array of numpy arrays. To silence the output when inputting large numbers to the function set it equal to a variable which can then be used to view the images created."
   ]
  },
  {
   "cell_type": "code",
   "execution_count": null,
   "metadata": {},
   "outputs": [],
   "source": [
    "test = training_images.im_gen_circles(3) #Input of 3 generates 3 images from this function and outputs an \n",
    "#array holding the np arrays of the images. Names the function tests as a callable attribute."
   ]
  },
  {
   "cell_type": "code",
   "execution_count": null,
   "metadata": {},
   "outputs": [],
   "source": [
    "img = Image.fromarray(test[0]) #Converts the np array from the 'test' variable into an image and names it a callable \n",
    "#variable 'img'.  \n",
    "img"
   ]
  },
  {
   "cell_type": "markdown",
   "metadata": {},
   "source": [
    "To count the number of pixels the `pix_count_image_circles` or `pix_count_array_circles` can be used.  For large numbers of n in the image generator functions it is probably more applicable to run the `pix_count_array_circles` function as it outputs the number of objects in a dataframe which can be parsed through.  For each function the image in array format must be input with the index number for the single_image function.  Examples follow below from the random image generator run above."
   ]
  },
  {
   "cell_type": "code",
   "execution_count": null,
   "metadata": {},
   "outputs": [],
   "source": [
    "training_images.pix_count_im_circles(test, 0) #Uses the test varaible of arrays and the index of 0 to count the background\n",
    "#pixels and objects in the image.  Outputs the print string of these values."
   ]
  },
  {
   "cell_type": "code",
   "execution_count": null,
   "metadata": {},
   "outputs": [],
   "source": [
    "training_images.pix_count_array_circles(test) #Uses the array generated from the circles image generator as an input and counts \n",
    "#the number of objects within the image. Outputs a dataframe. "
   ]
  },
  {
   "cell_type": "markdown",
   "metadata": {},
   "source": [
    "## Image generator of rectangles with object counters and examples"
   ]
  },
  {
   "cell_type": "markdown",
   "metadata": {},
   "source": [
    "Below are the examples for the three functions above: `im_gen_rect`, `pix_count_im_rect`, and `pix_count_array_rect`."
   ]
  },
  {
   "cell_type": "code",
   "execution_count": null,
   "metadata": {},
   "outputs": [],
   "source": [
    "test_rectangles = training_images.im_gen_rect(3) #Will produce 3 images based on the numeric input.\n",
    "#test_rectangles variable named so that the function output can be called in future processes."
   ]
  },
  {
   "cell_type": "code",
   "execution_count": null,
   "metadata": {},
   "outputs": [],
   "source": [
    "img = Image.fromarray(test_rectangles[0]) #Converts one np array from the generator into an image for viewing.\n",
    "img"
   ]
  },
  {
   "cell_type": "markdown",
   "metadata": {},
   "source": [
    "To count the number of pixels the `pix_count_im_rect` or `pix_count_array_rect` can be used.  For large numbers of n in the image generator functions it is probably more applicable to run the `pix_count_array_rect` function as it outputs the number of objects in a dataframe which can be parsed through.  For each function the image in array format must be input with the index number for the `pix_count_im_rect` function.  Examples follow below from the random image generator run above."
   ]
  },
  {
   "cell_type": "code",
   "execution_count": null,
   "metadata": {},
   "outputs": [],
   "source": [
    "training_images.pix_count_im_rect(test_rectangles, 0) #Using the test_rectangles array and a specific index the output\n",
    "#will be the number of objects present in the image."
   ]
  },
  {
   "cell_type": "code",
   "execution_count": null,
   "metadata": {},
   "outputs": [],
   "source": [
    "training_images.pix_count_array_rect(test_rectangles) #Using the test_rectangles array the ouput will be the number of \n",
    "#objects present in the image."
   ]
  },
  {
   "cell_type": "markdown",
   "metadata": {},
   "source": [
    "## Image generator of rectangles and circles with examples"
   ]
  },
  {
   "cell_type": "markdown",
   "metadata": {},
   "source": [
    "The `im_gen_circles_and_rect` function takes the number of images needed as an input and outputs an array of numpy arrays. To silence the output when inputting large numbers to the function set it equal to a variable which can then be used to view the images created."
   ]
  },
  {
   "cell_type": "code",
   "execution_count": null,
   "metadata": {},
   "outputs": [],
   "source": [
    "test_circles_and_rectangles = training_images.im_gen_circles_and_rect(2) #Using the number of images wanted as an input (2) an array of \n",
    "#image arrays will be the output."
   ]
  },
  {
   "cell_type": "code",
   "execution_count": null,
   "metadata": {},
   "outputs": [],
   "source": [
    "img = Image.fromarray(test_circles_and_rectangles[0]) #converting the output array to a visual image.\n",
    "img"
   ]
  }
 ],
 "metadata": {
  "kernelspec": {
   "display_name": "Python 3",
   "language": "python",
   "name": "python3"
  },
  "language_info": {
   "codemirror_mode": {
    "name": "ipython",
    "version": 3
   },
   "file_extension": ".py",
   "mimetype": "text/x-python",
   "name": "python",
   "nbconvert_exporter": "python",
   "pygments_lexer": "ipython3",
   "version": "3.6.8"
  }
 },
 "nbformat": 4,
 "nbformat_minor": 2
}
