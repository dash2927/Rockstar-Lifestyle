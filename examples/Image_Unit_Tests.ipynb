{
 "cells": [
  {
   "cell_type": "code",
   "execution_count": 1,
   "metadata": {},
   "outputs": [],
   "source": [
    "from PIL import Image, ImageDraw\n",
    "from random import randint\n",
    "import numpy as np\n",
    "import pandas as pd"
   ]
  },
  {
   "cell_type": "code",
   "execution_count": 53,
   "metadata": {},
   "outputs": [],
   "source": [
    "def image_generator(n):\n",
    "    \"\"\"Generates a number of images with randomized white pixels on a black background\"\"\"\n",
    "    i=0\n",
    "    j=0\n",
    "    k=0\n",
    "    imgarray = [] #sets up the output array\n",
    "    for i in range(0, n): #begins the counter on number of images based on the input\n",
    "        img = Image.new('L', [250, 250]) #creates a 250x250 pixel image\n",
    "        draw = ImageDraw.Draw(img)\n",
    "        np.random.seed(123+i) #creates reproducibility in randomness that changes with each iteration\n",
    "        for j in range(0,img.size[0]):#Creates random starting points for pixels\n",
    "            for k in range(0, img.size[0]):\n",
    "                a = randint(0,50)+(3*j)\n",
    "                b = randint(0,50)+(3*k)\n",
    "                c = a+1\n",
    "                d = b+1\n",
    "                draw.ellipse([a,b,c,d], fill=255)\n",
    "                k=k+randint(90,100) #creates random jumps in the counter\n",
    "            j = j+randint(90,100)\n",
    "        array = np.array(img)#saves the image as a numpy array\n",
    "        imgarray.append(array)#adds new array to the list of arrays\n",
    "    return imgarray"
   ]
  },
  {
   "cell_type": "code",
   "execution_count": 54,
   "metadata": {},
   "outputs": [],
   "source": [
    "test = image_generator(2)"
   ]
  },
  {
   "cell_type": "code",
   "execution_count": 55,
   "metadata": {},
   "outputs": [
    {
     "data": {
      "text/plain": [
       "60000"
      ]
     },
     "execution_count": 55,
     "metadata": {},
     "output_type": "execute_result"
    }
   ],
   "source": [
    "(test[1]).size"
   ]
  },
  {
   "cell_type": "code",
   "execution_count": 59,
   "metadata": {},
   "outputs": [],
   "source": [
    "#It is important that images remain the same size for training and testing purposes.  \n",
    "#This test should pass as long as the image_generator code has not been altered.\n",
    "def test_image_generator(): \n",
    "    n=3\n",
    "    x=0\n",
    "    imgarray = image_generator(n)\n",
    "    for i in range(0,n-1):\n",
    "        if test[i].size==62500:\n",
    "            pass\n",
    "        else:\n",
    "            raise ValueError(\"Image generated is not 250x250 pixels. Different images sizes are not supported by program\")\n",
    "    return"
   ]
  },
  {
   "cell_type": "code",
   "execution_count": null,
   "metadata": {},
   "outputs": [],
   "source": []
  }
 ],
 "metadata": {
  "kernelspec": {
   "display_name": "Python 3",
   "language": "python",
   "name": "python3"
  },
  "language_info": {
   "codemirror_mode": {
    "name": "ipython",
    "version": 3
   },
   "file_extension": ".py",
   "mimetype": "text/x-python",
   "name": "python",
   "nbconvert_exporter": "python",
   "pygments_lexer": "ipython3",
   "version": "3.6.7"
  }
 },
 "nbformat": 4,
 "nbformat_minor": 2
}
