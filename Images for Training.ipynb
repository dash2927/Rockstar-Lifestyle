{
 "cells": [
  {
   "cell_type": "code",
   "execution_count": 1,
   "metadata": {},
   "outputs": [],
   "source": [
    "from PIL import Image, ImageDraw\n",
    "from random import randint\n",
    "import numpy as np\n",
    "import pandas as pd"
   ]
  },
  {
   "cell_type": "code",
   "execution_count": null,
   "metadata": {},
   "outputs": [],
   "source": [
    "def pixel_counter(array, array_index)\n",
    "    black = 0\n",
    "    obj = 0\n",
    "    img = Image.fromarray(array[array_index])\n",
    "    for pixel in img.getdata():\n",
    "        if pixel == 255:\n",
    "            obj += 1\n",
    "        else:\n",
    "            black += 1\n",
    "    print('object=' + str(obj) + ', black=' +str(black))\n",
    "    return"
   ]
  },
  {
   "cell_type": "code",
   "execution_count": 46,
   "metadata": {},
   "outputs": [],
   "source": [
    "def image_generator(n):\n",
    "    i=0\n",
    "    j=0\n",
    "    k=0\n",
    "    imgarray = []\n",
    "    for i in range(0, n):\n",
    "        img = Image.new('L', [250, 250]) #creates a 250x250 pixel image\n",
    "        draw = ImageDraw.Draw(img)\n",
    "        np.random.seed(123+i) #creates reproducibility in randomness\n",
    "        for j in range(0,img.size[0]):#Creates random starting points\n",
    "            for k in range(0, img.size[0]):\n",
    "                a = randint(0,50)+(3*j)\n",
    "                b = randint(0,50)+(3*k)\n",
    "                c = a+1\n",
    "                d = b+1\n",
    "                draw.ellipse([a,b,c,d], fill=255)\n",
    "                k=k+randint(90,100)\n",
    "            j = j+randint(90,100)\n",
    "        array = np.array(img)#saves the image as a numpy array\n",
    "        imgarray.append(array)#silences the output and adds a callable feature for arrays\n",
    "    return imgarray"
   ]
  },
  {
   "cell_type": "code",
   "execution_count": 97,
   "metadata": {},
   "outputs": [],
   "source": [
    "def pixel_counter_single_image(array, array_index):\n",
    "    black = 0\n",
    "    obj = 0\n",
    "    img = Image.fromarray(array[array_index])\n",
    "    for pixel in img.getdata():\n",
    "        if pixel == 0:\n",
    "            black += 1\n",
    "        else:\n",
    "            obj += 1\n",
    "    print('object=' + str(obj) + ', black=' +str(black))"
   ]
  },
  {
   "cell_type": "code",
   "execution_count": 95,
   "metadata": {},
   "outputs": [],
   "source": [
    "def pixel_counter_whole_array(array):\n",
    "    i = 0\n",
    "    pixel_count = pd.DataFrame( columns=['Index','Object', 'Black', 'Total'])\n",
    "    for i in range(0,len(array)):\n",
    "        img = Image.fromarray(array[i])\n",
    "        black = 0\n",
    "        obj = 0\n",
    "        for pixel in img.getdata(): \n",
    "            if pixel == 0:\n",
    "                black += 1\n",
    "            else:\n",
    "                obj += 1\n",
    "        total = black + obj\n",
    "        pixel_count.loc[i] = [i, black, obj, total]\n",
    "        print('object=' + str(obj) + ', black=' +str(black))\n",
    "    return pixel_count"
   ]
  },
  {
   "cell_type": "code",
   "execution_count": 52,
   "metadata": {},
   "outputs": [],
   "source": [
    "test_array = image_generator(2)"
   ]
  },
  {
   "cell_type": "code",
   "execution_count": 51,
   "metadata": {},
   "outputs": [
    {
     "data": {
      "image/png": "[encoded data removed]",
      "text/plain": [
       "<PIL.Image.Image image mode=L size=250x250 at 0x1EF84C983C8>"
      ]
     },
     "execution_count": 51,
     "metadata": {},
     "output_type": "execute_result"
    }
   ],
   "source": [
    "img = Image.fromarray(test[1])\n",
    "img"
   ]
  },
  {
   "cell_type": "code",
   "execution_count": 96,
   "metadata": {},
   "outputs": [
    {
     "name": "stdout",
     "output_type": "stream",
     "text": [
      "object=5370, black=57130\n",
      "object=5389, black=57111\n"
     ]
    },
    {
     "data": {
      "text/html": [
       "<div>\n",
       "<style scoped>\n",
       "    .dataframe tbody tr th:only-of-type {\n",
       "        vertical-align: middle;\n",
       "    }\n",
       "\n",
       "    .dataframe tbody tr th {\n",
       "        vertical-align: top;\n",
       "    }\n",
       "\n",
       "    .dataframe thead th {\n",
       "        text-align: right;\n",
       "    }\n",
       "</style>\n",
       "<table border=\"1\" class=\"dataframe\">\n",
       "  <thead>\n",
       "    <tr style=\"text-align: right;\">\n",
       "      <th></th>\n",
       "      <th>Index</th>\n",
       "      <th>Object</th>\n",
       "      <th>Black</th>\n",
       "      <th>Total</th>\n",
       "    </tr>\n",
       "  </thead>\n",
       "  <tbody>\n",
       "    <tr>\n",
       "      <th>0</th>\n",
       "      <td>0</td>\n",
       "      <td>57130</td>\n",
       "      <td>5370</td>\n",
       "      <td>62500</td>\n",
       "    </tr>\n",
       "    <tr>\n",
       "      <th>1</th>\n",
       "      <td>1</td>\n",
       "      <td>57111</td>\n",
       "      <td>5389</td>\n",
       "      <td>62500</td>\n",
       "    </tr>\n",
       "  </tbody>\n",
       "</table>\n",
       "</div>"
      ],
      "text/plain": [
       "  Index Object Black  Total\n",
       "0     0  57130  5370  62500\n",
       "1     1  57111  5389  62500"
      ]
     },
     "execution_count": 96,
     "metadata": {},
     "output_type": "execute_result"
    }
   ],
   "source": [
    "pixel_counter_whole_array(test_array)"
   ]
  },
  {
   "cell_type": "code",
   "execution_count": 129,
   "metadata": {},
   "outputs": [
    {
     "data": {
      "image/png": "[encoded data removed]",
      "text/plain": [
       "<PIL.Image.Image image mode=L size=250x250 at 0x1EF86759748>"
      ]
     },
     "execution_count": 129,
     "metadata": {},
     "output_type": "execute_result"
    }
   ],
   "source": [
    "img = Image.new('L', [250, 250])\n",
    "draw = ImageDraw.Draw(img)\n",
    "draw.ellipse([2,2,10,10], fill=128)\n",
    "draw.ellipse([12, 2, 20, 10], fill=128)\n",
    "draw.ellipse([22, 2, 30, 10], fill=128)\n",
    "img\n"
   ]
  },
  {
   "cell_type": "code",
   "execution_count": 130,
   "metadata": {},
   "outputs": [],
   "source": [
    "def image_generator(n):\n",
    "    i=0\n",
    "    j=0\n",
    "    k=0\n",
    "    imgarray = []\n",
    "    for i in range(0, n):\n",
    "        img = Image.new('L', [250, 250]) #creates a 250x250 pixel image\n",
    "        draw = ImageDraw.Draw(img)\n",
    "        for j in range(2, 25):#Creates random starting points\n",
    "            a = j\n",
    "            #b = 2\n",
    "            c = j+8\n",
    "            #d = 10\n",
    "            draw.ellipse([a,2,c,10], fill=255)\n",
    "            j += 10\n",
    "        array = np.array(img)#saves the image as a numpy array\n",
    "        imgarray.append(array)#silences the output and adds a callable feature for arrays\n",
    "    return imgarray"
   ]
  },
  {
   "cell_type": "code",
   "execution_count": 131,
   "metadata": {},
   "outputs": [],
   "source": [
    "test = image_generator(2)"
   ]
  },
  {
   "cell_type": "code",
   "execution_count": 132,
   "metadata": {},
   "outputs": [
    {
     "data": {
      "image/png": "[encoded data removed]",
      "text/plain": [
       "<PIL.Image.Image image mode=L size=250x250 at 0x1EF86759F60>"
      ]
     },
     "execution_count": 132,
     "metadata": {},
     "output_type": "execute_result"
    }
   ],
   "source": [
    "img = Image.fromarray(test[1])\n",
    "img"
   ]
  },
  {
   "cell_type": "code",
   "execution_count": null,
   "metadata": {},
   "outputs": [],
   "source": []
  }
 ],
 "metadata": {
  "kernelspec": {
   "display_name": "Python 3",
   "language": "python",
   "name": "python3"
  },
  "language_info": {
   "codemirror_mode": {
    "name": "ipython",
    "version": 3
   },
   "file_extension": ".py",
   "mimetype": "text/x-python",
   "name": "python",
   "nbconvert_exporter": "python",
   "pygments_lexer": "ipython3",
   "version": "3.6.7"
  }
 },
 "nbformat": 4,
 "nbformat_minor": 2
}
