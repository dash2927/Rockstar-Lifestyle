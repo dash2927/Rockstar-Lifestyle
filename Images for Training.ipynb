{
 "cells": [
  {
   "cell_type": "code",
   "execution_count": 72,
   "metadata": {},
   "outputs": [],
   "source": [
    "from PIL import Image, ImageDraw\n",
    "from random import randint\n",
    "import numpy as np\n",
    "import pandas as pd"
   ]
  },
  {
   "cell_type": "code",
   "execution_count": 54,
   "metadata": {},
   "outputs": [
    {
     "data": {
      "image/png": "[encoded data removed]",
      "text/plain": [
       "<PIL.Image.Image image mode=L size=250x250 at 0x17220B19F60>"
      ]
     },
     "execution_count": 54,
     "metadata": {},
     "output_type": "execute_result"
    }
   ],
   "source": [
    "\n",
    "img = Image.new('L', [250, 250])\n",
    "draw = ImageDraw.Draw(img)\n",
    "draw.ellipse([2,2,10,10], fill=128)\n",
    "img\n"
   ]
  },
  {
   "cell_type": "code",
   "execution_count": 62,
   "metadata": {},
   "outputs": [
    {
     "data": {
      "text/plain": [
       "62500"
      ]
     },
     "execution_count": 62,
     "metadata": {},
     "output_type": "execute_result"
    }
   ],
   "source": [
    "img = Image.new('L', [250, 250])\n",
    "draw = ImageDraw.Draw(img)\n",
    "j=0\n",
    "for j in range(0,img.size[0]):\n",
    "    for k in range(0, img.size[0]):\n",
    "        draw.ellipse([randint(0,5)+j,randint(0,5)+k,randint(0,5)+j,randint(0,5)+k], fill=128)\n",
    "        k=k+randint(0,9)\n",
    "    j = j+randint(0,9)\n",
    "array = np.array(img)    \n",
    "    \n",
    "array.size"
   ]
  },
  {
   "cell_type": "code",
   "execution_count": 11,
   "metadata": {},
   "outputs": [
    {
     "data": {
      "text/plain": [
       "250"
      ]
     },
     "execution_count": 11,
     "metadata": {},
     "output_type": "execute_result"
    }
   ],
   "source": [
    "img.size[0]"
   ]
  },
  {
   "cell_type": "code",
   "execution_count": 53,
   "metadata": {},
   "outputs": [
    {
     "name": "stdout",
     "output_type": "stream",
     "text": [
      "object=5406, black=57094\n"
     ]
    },
    {
     "data": {
      "image/png": "[encoded data removed]",
      "text/plain": [
       "<PIL.Image.Image image mode=L size=250x250 at 0x17220B197F0>"
      ]
     },
     "execution_count": 53,
     "metadata": {},
     "output_type": "execute_result"
    }
   ],
   "source": [
    "img = Image.new('L', [250, 250])\n",
    "draw = ImageDraw.Draw(img)\n",
    "j=0\n",
    "for j in range(0,img.size[0]):\n",
    "    for k in range(0, img.size[0]):\n",
    "        a = randint(0,50)+(3*j)\n",
    "        b = randint(0,50)+(3*k)\n",
    "        c = a+2\n",
    "        d = b+2\n",
    "        draw.ellipse([a,b,c,d], fill=128)\n",
    "        k=k+randint(90,100)\n",
    "    j = j+randint(90,100)\n",
    "      \n",
    "black = 0\n",
    "obj = 0\n",
    "for pixel in piximg.getdata():\n",
    "    if pixel == 255:\n",
    "        obj += 1\n",
    "    else:\n",
    "        black += 1\n",
    "print('object=' + str(obj) + ', black=' +str(black))\n",
    "piximg"
   ]
  },
  {
   "cell_type": "code",
   "execution_count": 79,
   "metadata": {},
   "outputs": [
    {
     "name": "stdout",
     "output_type": "stream",
     "text": [
      "object=5410, black=57090\n"
     ]
    },
    {
     "data": {
      "image/png": "[encoded data removed]",
      "text/plain": [
       "<PIL.Image.Image image mode=L size=250x250 at 0x17222C90EB8>"
      ]
     },
     "execution_count": 79,
     "metadata": {},
     "output_type": "execute_result"
    }
   ],
   "source": [
    "piximg = Image.new('L', [250, 250])\n",
    "draw = ImageDraw.Draw(piximg)\n",
    "j=0\n",
    "k=0\n",
    "for j in range(0,img.size[0]):\n",
    "    for k in range(0, img.size[0]):\n",
    "        np.random.seed(123)\n",
    "        a = randint(0,50)+(3*j)\n",
    "        b = randint(0,50)+(3*k)\n",
    "        c = a+1\n",
    "        d = b+1\n",
    "        draw.ellipse([a,b,c,d], fill=255)\n",
    "        k=k+randint(90,100)\n",
    "    j = j+randint(90,100)\n",
    "      \n",
    "black = 0\n",
    "obj = 0\n",
    "for pixel in piximg.getdata():\n",
    "    if pixel == 255:\n",
    "        obj += 1\n",
    "    else:\n",
    "        black += 1\n",
    "print('object=' + str(obj) + ', black=' +str(black))\n",
    "piximg"
   ]
  },
  {
   "cell_type": "code",
   "execution_count": 52,
   "metadata": {},
   "outputs": [
    {
     "name": "stdout",
     "output_type": "stream",
     "text": [
      "object=5406, black=57094\n"
     ]
    }
   ],
   "source": [
    "black = 0\n",
    "obj = 0\n",
    "for pixel in piximg.getdata():\n",
    "    if pixel == 255:\n",
    "        obj += 1\n",
    "    else:\n",
    "        black += 1\n",
    "print('object=' + str(obj) + ', black=' +str(black))"
   ]
  },
  {
   "cell_type": "code",
   "execution_count": 93,
   "metadata": {},
   "outputs": [],
   "source": [
    "def image_generator(n):\n",
    "    n=100 #Number of images needed\n",
    "    i=0\n",
    "    j=0\n",
    "    k=0\n",
    "    imgarray = []\n",
    "    for i in range(0, n):\n",
    "        img = Image.new('L', [250, 250]) #creates a 250x250 pixel image\n",
    "        draw = ImageDraw.Draw(img)\n",
    "        np.random.seed(123+i) #creates reproducibility in randomness\n",
    "        for j in range(0,img.size[0]):#Creates random starting points\n",
    "            for k in range(0, img.size[0]):\n",
    "                a = randint(0,50)+(3*j)\n",
    "                b = randint(0,50)+(3*k)\n",
    "                c = a+1\n",
    "                d = b+1\n",
    "                draw.ellipse([a,b,c,d], fill=255)\n",
    "                k=k+randint(90,100)\n",
    "            j = j+randint(90,100)\n",
    "        array = np.array(img)#saves the image as a numpy array\n",
    "        image_array = imgarray.append(array)#silences the output and adds a callable feature for arrays\n",
    "    return"
   ]
  },
  {
   "cell_type": "code",
   "execution_count": 95,
   "metadata": {},
   "outputs": [],
   "source": [
    "image_generator(2)"
   ]
  },
  {
   "cell_type": "code",
   "execution_count": 98,
   "metadata": {},
   "outputs": [
    {
     "data": {
      "text/plain": [
       "array([[  0,   0,   0, ...,   0,   0,   0],\n",
       "       [  0,   0,   0, ...,   0,   0,   0],\n",
       "       [  0,   0,   0, ...,   0,   0,   0],\n",
       "       ...,\n",
       "       [  0,   0,   0, ...,   0,   0,   0],\n",
       "       [  0,   0,   0, ..., 255,   0,   0],\n",
       "       [  0,   0,   0, ...,   0,   0,   0]], dtype=uint8)"
      ]
     },
     "execution_count": 98,
     "metadata": {},
     "output_type": "execute_result"
    }
   ],
   "source": [
    "imgarray[1]"
   ]
  },
  {
   "cell_type": "code",
   "execution_count": null,
   "metadata": {},
   "outputs": [],
   "source": [
    "img = Image.fromarray(image_array[1])"
   ]
  },
  {
   "cell_type": "code",
   "execution_count": null,
   "metadata": {},
   "outputs": [],
   "source": [
    "def pixel_counter(array, array_index, )\n",
    "    black = 0\n",
    "    obj = 0\n",
    "    img = Image.fromarray(array[array_index])\n",
    "    for pixel in piximg.getdata():\n",
    "        if pixel == 255:\n",
    "            obj += 1\n",
    "        else:\n",
    "            black += 1\n",
    "    print('object=' + str(obj) + ', black=' +str(black))"
   ]
  }
 ],
 "metadata": {
  "kernelspec": {
   "display_name": "Python 3",
   "language": "python",
   "name": "python3"
  },
  "language_info": {
   "codemirror_mode": {
    "name": "ipython",
    "version": 3
   },
   "file_extension": ".py",
   "mimetype": "text/x-python",
   "name": "python",
   "nbconvert_exporter": "python",
   "pygments_lexer": "ipython3",
   "version": "3.6.7"
  }
 },
 "nbformat": 4,
 "nbformat_minor": 2
}
